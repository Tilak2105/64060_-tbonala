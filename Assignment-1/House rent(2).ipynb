{
 "cells": [
  {
   "cell_type": "code",
   "execution_count": 32,
   "id": "693e99ab",
   "metadata": {},
   "outputs": [],
   "source": [
    "import pandas as pd\n",
    "# we are importing the data manupulation library which is pandas to this notebook\n",
    "import matplotlib.pyplot as plt\n",
    "# Importing the library for creating static,animated and interactive data visualizations\n"
   ]
  },
  {
   "cell_type": "code",
   "execution_count": 33,
   "id": "12847065",
   "metadata": {},
   "outputs": [],
   "source": [
    "House_file_path=r'I:\\Rworkshop\\House_Rent.csv'\n",
    "# Path directory for the file"
   ]
  },
  {
   "cell_type": "code",
   "execution_count": 34,
   "id": "85edb366",
   "metadata": {},
   "outputs": [],
   "source": [
    "House_data=pd.read_csv(House_file_path)\n",
    "# Reading the csv file into a  pandas Data frame"
   ]
  },
  {
   "cell_type": "code",
   "execution_count": 35,
   "id": "649ed298",
   "metadata": {},
   "outputs": [
    {
     "data": {
      "text/plain": [
       "count       199.000000\n",
       "mean      12017.085427\n",
       "std       14157.708738\n",
       "min        2200.000000\n",
       "25%        6500.000000\n",
       "50%        8500.000000\n",
       "75%       14000.000000\n",
       "max      180000.000000\n",
       "Name: Rent, dtype: float64"
      ]
     },
     "execution_count": 35,
     "metadata": {},
     "output_type": "execute_result"
    }
   ],
   "source": [
    "House_data['Rent'].describe()\n",
    "#displaying descriptive data for Rent attribute/:\n"
   ]
  },
  {
   "cell_type": "code",
   "execution_count": 36,
   "id": "098889fc",
   "metadata": {},
   "outputs": [
    {
     "data": {
      "text/plain": [
       "count            199\n",
       "unique             2\n",
       "top       Super Area\n",
       "freq             103\n",
       "Name: Area Type, dtype: object"
      ]
     },
     "execution_count": 36,
     "metadata": {},
     "output_type": "execute_result"
    }
   ],
   "source": [
    "House_data['Area Type'].describe()\n",
    "#diplaying descriptive data for Area Type  attribute/:\n"
   ]
  },
  {
   "cell_type": "code",
   "execution_count": 37,
   "id": "82def50d",
   "metadata": {},
   "outputs": [
    {
     "data": {
      "text/plain": [
       "<AxesSubplot:xlabel='Size', ylabel='Rent'>"
      ]
     },
     "execution_count": 37,
     "metadata": {},
     "output_type": "execute_result"
    },
    {
     "data": {
      "image/png": "[encoded data removed]",
      "text/plain": [
       "<Figure size 432x288 with 1 Axes>"
      ]
     },
     "metadata": {
      "needs_background": "light"
     },
     "output_type": "display_data"
    }
   ],
   "source": [
    "House_data.plot.scatter(x='Size', y='Rent', c='blue')\n",
    "#Ploting the scatter plot between size and rent . x= size float and y= Rent float/:"
   ]
  },
  {
   "cell_type": "code",
   "execution_count": 42,
   "id": "01b52b02",
   "metadata": {},
   "outputs": [
    {
     "name": "stdout",
     "output_type": "stream",
     "text": [
      "<class 'pandas.core.frame.DataFrame'>\n",
      "RangeIndex: 4746 entries, 0 to 4745\n",
      "Data columns (total 12 columns):\n",
      " #   Column             Non-Null Count  Dtype  \n",
      "---  ------             --------------  -----  \n",
      " 0   Posted On          199 non-null    object \n",
      " 1   BHK                199 non-null    float64\n",
      " 2   Rent               199 non-null    float64\n",
      " 3   Size               199 non-null    float64\n",
      " 4   Floor              199 non-null    object \n",
      " 5   Area Type          199 non-null    object \n",
      " 6   Area Locality      199 non-null    object \n",
      " 7   City               199 non-null    object \n",
      " 8   Furnishing Status  199 non-null    object \n",
      " 9   Tenant Preferred   199 non-null    object \n",
      " 10  Bathroom           199 non-null    float64\n",
      " 11  Point of Contact   199 non-null    object \n",
      "dtypes: float64(4), object(8)\n",
      "memory usage: 445.1+ KB\n",
      "None\n"
     ]
    }
   ],
   "source": [
    "print(House_data.info())"
   ]
  },
  {
   "cell_type": "code",
   "execution_count": null,
   "id": "f88b6dec",
   "metadata": {},
   "outputs": [],
   "source": []
  }
 ],
 "metadata": {
  "kernelspec": {
   "display_name": "Python 3 (ipykernel)",
   "language": "python",
   "name": "python3"
  },
  "language_info": {
   "codemirror_mode": {
    "name": "ipython",
    "version": 3
   },
   "file_extension": ".py",
   "mimetype": "text/x-python",
   "name": "python",
   "nbconvert_exporter": "python",
   "pygments_lexer": "ipython3",
   "version": "3.9.12"
  }
 },
 "nbformat": 4,
 "nbformat_minor": 5
}
